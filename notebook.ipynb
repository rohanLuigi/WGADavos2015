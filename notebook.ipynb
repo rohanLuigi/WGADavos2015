{
 "cells": [
  {
   "cell_type": "markdown",
   "metadata": {},
   "source": [
    "##Course 1\n",
    "\n",
    "###Genomic Prediction in Livestock\n",
    "\n",
    "###June 19-23, 2015\n",
    "\n",
    "### agn, Davos, Switzerland\n",
    "\n",
    "\n",
    "###Course Instructors:\n",
    "* Dorian Garrick\n",
    "* Rohan Fernando\n",
    "\n",
    "\n",
    "###Topics Covered:\n",
    "*\tStatistical, quantitative genetic, and computational aspects of genomic prediction.\n",
    "*\tGenome-wide association studies using genomic prediction methods\n",
    "*\tJulia scripts for genomic prediction and GWAS\n",
    "\n",
    "\n",
    "###Prerequisites:        \n",
    "* Graduate-level course in quantitative genetics.\n",
    "* Graduate-level course in statistics.\n",
    "* Basic understanding of concepts in QTL mapping, linkage, linkage disequilibrium and computer programming."
   ]
  },
  {
   "cell_type": "markdown",
   "metadata": {},
   "source": [
    "###Materials:\n",
    "#### Notes:\n",
    "\n",
    "* Day 1:\n",
    " * [Introduction to Genomic Prediction](notes/day1/Introduction.pdf)\n",
    " * [Simple Linear Models](notes/day1/Simple_Linear_Models.pdf)\n",
    " * [Simulation of data using Julia](notes/day1/wrkShpSlides1.ipynb)"
   ]
  },
  {
   "cell_type": "markdown",
   "metadata": {},
   "source": [
    "* Day 2: \n",
    " * [Bayes' Theorem](notes/day1/BayesTheorem.ipynb)\n",
    " * [Markov chain Monte-Carlo](notes/day2/wrkShpSlides2.ipynb) \n",
    " * [OLS: Simple Linear Regression-- Julia Code](code/LinearRegressionMCMCwithknownResVar.jl.txt)"
   ]
  },
  {
   "cell_type": "markdown",
   "metadata": {},
   "source": [
    "* Day 3:\n",
    " * [Bayesian Inference](notes/day2/BayesInference.ipynb)\n",
    " * [Bayesian Inference: Simple Linear Regression](notes/day2/BayesSimpleLinear.ipynb)\n",
    " * [Pedigree Package](notes/day2/wrkShpPedSlides.ipynb)\n",
    " * [Pedigree BLUP](notes/day2/3_Pedigree_BLUP_slides.pdf)\n",
    " * [Fixed Effects Models](notes/day2/4_Fixed_Effects_Models_slides.pdf)\n",
    " * [Julia code 2 (unknown residual)](code/LinearRegressionMCMCwithUnknownResVar.jl.txt)\n",
    " * [Bayesian Inference: Multiple Linear Regression](notes/day3/BayesMultipleRegression.ipynb)\n",
    " * [Bayesian Inference: Whole Genome Analyses](notes/day3/BayesGWAS.ipynb)\n",
    " * [BayesC0 Julia and R](notes/day3/BayesC0.ipynb)\n",
    " * [BLUPexample.jl code](code/BLUPexample.jl.txt)\n",
    " * [Problem 2 (pdf)](code/Problem2-2.pdf)\n",
    " * [Problem 2 (code)](code/Problem2StartHere.jl.txt)\n",
    " * [Problem 2 (data)](code/BenHayesp110.txt)"
   ]
  },
  {
   "cell_type": "markdown",
   "metadata": {},
   "source": [
    "* Day 4:\n",
    " * [Linkage Disequilibrium](notes/day1/LD.ipynb)\n",
    " * [Bayesian Methods (notebook)](http://reworkhow.github.io/StatGenomeBook/)\n",
    " * [Single-Step Bayesian Methods (pdf)](notes/day4/5_GBLUPandSIngleStep_slides.pdf)"
   ]
  },
  {
   "cell_type": "markdown",
   "metadata": {},
   "source": [
    "###Julia Tutorial:\n",
    "\n",
    "* [Learn X in Y minutes](http://learnxinyminutes.com/docs/julia/)\n",
    "* [Introduction to Julia for Statistical Genetics](http://reworkhow.github.io/JuliaGenBook/)\n",
    "* [Package Management](http://nbviewer.ipython.org/github/reworkhow/GPW2015/blob/master/notes/Pkg.ipynb)"
   ]
  }
 ],
 "metadata": {
  "kernelspec": {
   "display_name": "Julia 0.3.7",
   "language": "julia",
   "name": "julia 0.3"
  },
  "language_info": {
   "name": "julia",
   "version": "0.3.7"
  }
 },
 "nbformat": 4,
 "nbformat_minor": 0
}
