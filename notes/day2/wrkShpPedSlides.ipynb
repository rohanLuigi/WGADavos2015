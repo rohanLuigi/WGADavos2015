{
 "cells": [
  {
   "cell_type": "markdown",
   "metadata": {},
   "source": [
    "## Pedigree Package \n",
    "\n",
    "### Rohan L. Fernando\n",
    "\n",
    "### May 2015"
   ]
  },
  {
   "cell_type": "markdown",
   "metadata": {},
   "source": [
    "### Install PedModule\n",
    "\n",
    "Do this only once"
   ]
  },
  {
   "cell_type": "code",
   "execution_count": 1,
   "metadata": {
    "collapsed": false
   },
   "outputs": [
    {
     "name": "stderr",
     "output_type": "stream",
     "text": [
      "INFO: Cloning PedModule from https://github.com/reworkhow/PedModule.jl.git\n",
      "INFO: Computing changes...\n"
     ]
    }
   ],
   "source": [
    "Pkg.clone(\"https://github.com/reworkhow/PedModule.jl.git\")"
   ]
  },
  {
   "cell_type": "code",
   "execution_count": 2,
   "metadata": {
    "collapsed": false
   },
   "outputs": [],
   "source": [
    "using PedModule"
   ]
  },
  {
   "cell_type": "code",
   "execution_count": 3,
   "metadata": {
    "collapsed": false
   },
   "outputs": [
    {
     "name": "stdout",
     "output_type": "stream",
     "text": [
      "1 0 0\n",
      "2 0 0\n",
      "3 0 0\n",
      "4 1 2\n",
      "5 1 2\n",
      "6 1 3\n"
     ]
    }
   ],
   "source": [
    ";cat pedFile"
   ]
  },
  {
   "cell_type": "code",
   "execution_count": 4,
   "metadata": {
    "collapsed": false
   },
   "outputs": [
    {
     "data": {
      "text/plain": [
       "Dict{Any,Any} with 6 entries:\n",
       "  \"4\" => PedNode(3,\"1\",\"2\",0.0)\n",
       "  \"1\" => PedNode(1,\"0\",\"0\",0.0)\n",
       "  \"5\" => PedNode(4,\"1\",\"2\",0.0)\n",
       "  \"2\" => PedNode(2,\"0\",\"0\",0.0)\n",
       "  \"6\" => PedNode(6,\"1\",\"3\",0.0)\n",
       "  \"3\" => PedNode(5,\"0\",\"0\",0.0)"
      ]
     },
     "execution_count": 4,
     "metadata": {},
     "output_type": "execute_result"
    }
   ],
   "source": [
    "ped = PedModule.mkPed(\"pedFile\")\n",
    "ped.idMap"
   ]
  },
  {
   "cell_type": "code",
   "execution_count": 5,
   "metadata": {
    "collapsed": false
   },
   "outputs": [
    {
     "data": {
      "text/plain": [
       "6x6 sparse matrix with 22 Float64 entries:\n",
       "\t[1, 1]  =  2.5\n",
       "\t[2, 1]  =  1.0\n",
       "\t[3, 1]  =  -1.0\n",
       "\t[4, 1]  =  -1.0\n",
       "\t[5, 1]  =  0.5\n",
       "\t[6, 1]  =  -1.0\n",
       "\t[1, 2]  =  1.0\n",
       "\t[2, 2]  =  2.0\n",
       "\t[3, 2]  =  -1.0\n",
       "\t[4, 2]  =  -1.0\n",
       "\t⋮\n",
       "\t[2, 3]  =  -1.0\n",
       "\t[3, 3]  =  2.0\n",
       "\t[1, 4]  =  -1.0\n",
       "\t[2, 4]  =  -1.0\n",
       "\t[4, 4]  =  2.0\n",
       "\t[1, 5]  =  0.5\n",
       "\t[5, 5]  =  1.5\n",
       "\t[6, 5]  =  -1.0\n",
       "\t[1, 6]  =  -1.0\n",
       "\t[5, 6]  =  -1.0\n",
       "\t[6, 6]  =  2.0"
      ]
     },
     "execution_count": 5,
     "metadata": {},
     "output_type": "execute_result"
    }
   ],
   "source": [
    "Ai = PedModule.AInverse(ped)"
   ]
  },
  {
   "cell_type": "code",
   "execution_count": 6,
   "metadata": {
    "collapsed": false
   },
   "outputs": [
    {
     "data": {
      "text/plain": [
       "6x6 Array{Float64,2}:\n",
       "  2.5   1.0  -1.0  -1.0   0.5  -1.0\n",
       "  1.0   2.0  -1.0  -1.0   0.0   0.0\n",
       " -1.0  -1.0   2.0   0.0   0.0   0.0\n",
       " -1.0  -1.0   0.0   2.0   0.0   0.0\n",
       "  0.5   0.0   0.0   0.0   1.5  -1.0\n",
       " -1.0   0.0   0.0   0.0  -1.0   2.0"
      ]
     },
     "execution_count": 6,
     "metadata": {},
     "output_type": "execute_result"
    }
   ],
   "source": [
    "full(Ai)"
   ]
  },
  {
   "cell_type": "code",
   "execution_count": 7,
   "metadata": {
    "collapsed": false
   },
   "outputs": [
    {
     "data": {
      "text/plain": [
       "6x6 Array{Float64,2}:\n",
       " 1.0  0.0  0.5   0.5    0.0   0.5 \n",
       " 0.0  1.0  0.5   0.5   -0.0  -0.0 \n",
       " 0.5  0.5  1.0   0.5    0.0   0.25\n",
       " 0.5  0.5  0.5   1.0    0.0   0.25\n",
       " 0.0  0.0  0.0   0.0    1.0   0.5 \n",
       " 0.5  0.0  0.25  0.25   0.5   1.0 "
      ]
     },
     "execution_count": 7,
     "metadata": {},
     "output_type": "execute_result"
    }
   ],
   "source": [
    "A = round(inv(full(Ai)),2)"
   ]
  }
 ],
 "metadata": {
  "kernelspec": {
   "display_name": "Julia 0.3.7",
   "language": "julia",
   "name": "julia 0.3"
  },
  "language_info": {
   "name": "julia",
   "version": "0.3.7"
  }
 },
 "nbformat": 4,
 "nbformat_minor": 0
}
